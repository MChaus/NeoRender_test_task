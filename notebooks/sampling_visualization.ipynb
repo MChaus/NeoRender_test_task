{
 "cells": [
  {
   "cell_type": "code",
   "execution_count": null,
   "metadata": {},
   "outputs": [],
   "source": [
    "import sys\n",
    "sys.path.append('..')\n",
    "\n",
    "import os\n",
    "import trimesh\n",
    "import math\n",
    "import numpy as np\n",
    "from trimesh.sample import sample_surface_sphere\n",
    "from source.mesh_sampler import MeshSampler"
   ]
  },
  {
   "cell_type": "code",
   "execution_count": null,
   "metadata": {},
   "outputs": [],
   "source": [
    "DATA_DIR = '../data/ShapeNetCoreV2/'\n",
    "synsetId = '02880940'\n",
    "modelId = 'da5f13f4048dbd72fcb8d8c6d4df8143'\n",
    "\n",
    "MODEL_DIR = os.path.join(DATA_DIR, synsetId, modelId, 'models')\n",
    "MESH = os.path.join(MODEL_DIR, 'model_normalized.obj')"
   ]
  },
  {
   "cell_type": "code",
   "execution_count": null,
   "metadata": {},
   "outputs": [],
   "source": [
    "import logging\n",
    "log = logging.getLogger('trimesh')\n",
    "fh = logging.FileHandler('trimesh_logs.log')\n",
    "log.addHandler(fh)"
   ]
  },
  {
   "cell_type": "code",
   "execution_count": null,
   "metadata": {},
   "outputs": [],
   "source": [
    "mesh = trimesh.load_mesh(MESH)\n",
    "mesh = trimesh.load(MESH, force='mesh', skip_materials=True)\n",
    "mesh.show()"
   ]
  },
  {
   "cell_type": "code",
   "execution_count": null,
   "metadata": {},
   "outputs": [],
   "source": [
    "a = MeshSampler(mesh, 10000)"
   ]
  },
  {
   "cell_type": "code",
   "execution_count": null,
   "metadata": {},
   "outputs": [],
   "source": [
    "a.sample_points()\n",
    "a.sampled_points = a.sampled_points[::-1]"
   ]
  },
  {
   "cell_type": "code",
   "execution_count": null,
   "metadata": {},
   "outputs": [],
   "source": [
    "points, sdf = a.compute_sdf(chunk_size=100)"
   ]
  },
  {
   "cell_type": "code",
   "execution_count": null,
   "metadata": {},
   "outputs": [],
   "source": [
    "len(sdf[sdf>0]), len(sdf[sdf<0])"
   ]
  },
  {
   "cell_type": "code",
   "execution_count": null,
   "metadata": {},
   "outputs": [],
   "source": [
    "for boundary in (3, 0.1, 0.01, 0.001):\n",
    "    trimesh.points.plot_points([points for points, sdf in zip(points, sdf) if abs(sdf) < boundary])"
   ]
  },
  {
   "cell_type": "code",
   "execution_count": null,
   "metadata": {},
   "outputs": [],
   "source": [
    "for boundary in (1, 0.1, 0.01, 0.001):\n",
    "    trimesh.points.plot_points([points for points, sdf in zip(points, sdf) if sdf > boundary])"
   ]
  }
 ],
 "metadata": {
  "kernelspec": {
   "display_name": "Python 3",
   "language": "python",
   "name": "python3"
  },
  "language_info": {
   "codemirror_mode": {
    "name": "ipython",
    "version": 3
   },
   "file_extension": ".py",
   "mimetype": "text/x-python",
   "name": "python",
   "nbconvert_exporter": "python",
   "pygments_lexer": "ipython3",
   "version": "3.8.5"
  }
 },
 "nbformat": 4,
 "nbformat_minor": 2
}
