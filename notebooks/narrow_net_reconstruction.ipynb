{
 "cells": [
  {
   "cell_type": "markdown",
   "metadata": {},
   "source": [
    "# Visualization of the very lightweight DeepSDF network "
   ]
  },
  {
   "cell_type": "markdown",
   "metadata": {},
   "source": [
    "#### Therefore, ensure you have it downloaded and sampled points for objects are presented. If not, download the dataset and run sample_points.py script."
   ]
  },
  {
   "cell_type": "markdown",
   "metadata": {},
   "source": [
    "#### In this notebook I show a lightweight DeepSDF with size of each linear layer of 64. This net has more than 64 times less parameters than classical DeepSDF. Latent vector code has length of 32."
   ]
  },
  {
   "cell_type": "markdown",
   "metadata": {},
   "source": [
    "### Network's summary:\n",
    "\n",
    "Decoder(\n",
    "  \n",
    "  (lin0): Linear(in_features=35, out_features=64, bias=True)\n",
    "  \n",
    "  (lin1): Linear(in_features=64, out_features=64, bias=True)\n",
    "  \n",
    "  (lin2): Linear(in_features=64, out_features=64, bias=True)\n",
    "  \n",
    "  (lin3): Linear(in_features=64, out_features=29, bias=True)\n",
    "  \n",
    "  (lin4): Linear(in_features=64, out_features=64, bias=True)\n",
    "  \n",
    "  (lin5): Linear(in_features=64, out_features=64, bias=True)\n",
    "  \n",
    "  (lin6): Linear(in_features=64, out_features=64, bias=True)\n",
    "  \n",
    "  (lin7): Linear(in_features=64, out_features=64, bias=True)\n",
    "  \n",
    "  (lin8): Linear(in_features=64, out_features=1, bias=True)\n",
    "  \n",
    "  (relu): ReLU()\n",
    "  \n",
    "  (th): Tanh()\n",
    "\n",
    ")"
   ]
  },
  {
   "cell_type": "code",
   "execution_count": null,
   "metadata": {},
   "outputs": [],
   "source": [
    "import sys\n",
    "sys.path.append('..')"
   ]
  },
  {
   "cell_type": "code",
   "execution_count": null,
   "metadata": {},
   "outputs": [],
   "source": [
    "import os\n",
    "import json\n",
    "import torch\n",
    "import trimesh\n",
    "import logging\n",
    "import numpy as np\n",
    "\n",
    "from source.deep_sdf import Decoder\n",
    "from source.deep_sdf_reconstructor import DeepSDFReconstructor\n",
    "from source.utils import marching_cubes\n",
    "from source.utils import download_models, data_loader"
   ]
  },
  {
   "cell_type": "markdown",
   "metadata": {},
   "source": [
    "### Redirect trimesh log to the file for a clean cmd outputs"
   ]
  },
  {
   "cell_type": "code",
   "execution_count": null,
   "metadata": {},
   "outputs": [],
   "source": [
    "log = logging.getLogger('trimesh')\n",
    "fh = logging.FileHandler('trimesh_logs.log')\n",
    "log.addHandler(fh)"
   ]
  },
  {
   "cell_type": "markdown",
   "metadata": {},
   "source": [
    "### Set paths, urls and constants"
   ]
  },
  {
   "cell_type": "code",
   "execution_count": null,
   "metadata": {},
   "outputs": [],
   "source": [
    "EPOCHS = (80, 130, 180, 230)\n",
    "FACE_COLOR = (80, 255, 30)\n",
    "train_id = 0\n",
    "test_id = 0\n",
    "\n",
    "source_url = r'https://www.dropbox.com/s/jivl308r3bzmmph/narrow_net.zip?dl=1'\n",
    "target_dir = os.path.join(os.getcwd(), 'models')\n",
    "target_file = os.path.join(target_dir, 'narrow_net.zip')\n",
    "\n",
    "model_dir = os.path.join(target_dir, 'narrow_net')\n",
    "specs_path = os.path.join(model_dir, 'specs.json')\n",
    "split_path = os.path.join(model_dir, 'split.json')"
   ]
  },
  {
   "cell_type": "markdown",
   "metadata": {},
   "source": [
    "### Download saved model weights and unpuck JSONs with metadata"
   ]
  },
  {
   "cell_type": "code",
   "execution_count": null,
   "metadata": {},
   "outputs": [],
   "source": [
    "download_models(source_url, target_dir, target_file)\n",
    "\n",
    "with open(specs_path, 'r') as f:\n",
    "    specs = json.load(f)\n",
    "\n",
    "with open(split_path, 'r') as f:\n",
    "    split = json.load(f)"
   ]
  },
  {
   "cell_type": "markdown",
   "metadata": {},
   "source": [
    "### Define more paths"
   ]
  },
  {
   "cell_type": "code",
   "execution_count": null,
   "metadata": {},
   "outputs": [],
   "source": [
    "train_mesh_path = split['train'][train_id].split(os.sep)\n",
    "test_mesh_path = split['test'][test_id].split(os.sep)\n",
    "prefix = os.path.join(os.getcwd(), '..', 'data', 'ShapeNetCoreV2')\n",
    "\n",
    "test_points_path = os.path.join(os.getcwd(), '..', *test_mesh_path)\n",
    "\n",
    "train_mesh_path = os.path.join(prefix, *train_mesh_path[2:], 'models', 'model_normalized.obj')\n",
    "test_mesh_path = os.path.join(prefix, *test_mesh_path[2:], 'models', 'model_normalized.obj')"
   ]
  },
  {
   "cell_type": "markdown",
   "metadata": {},
   "source": [
    "### Calculate meshes for an object from training set"
   ]
  },
  {
   "cell_type": "code",
   "execution_count": null,
   "metadata": {},
   "outputs": [],
   "source": [
    "data_gen = data_loader(path = model_dir, \n",
    "                       specs = specs, \n",
    "                       epochs = EPOCHS, \n",
    "                       obj_id = train_id)"
   ]
  },
  {
   "cell_type": "code",
   "execution_count": null,
   "metadata": {},
   "outputs": [],
   "source": [
    "vert_list = []\n",
    "face_list = []\n",
    "i = 0\n",
    "for net, latent in data_gen:\n",
    "    verts, faces, normals, values = marching_cubes(net, latent, N = 128)\n",
    "    verts[:, 0] += i # shift the object\n",
    "    i += 2\n",
    "    vert_list.append(verts)\n",
    "    face_list.append(faces)"
   ]
  },
  {
   "cell_type": "markdown",
   "metadata": {},
   "source": [
    "# Visualize a dynamics of the learning"
   ]
  },
  {
   "cell_type": "code",
   "execution_count": null,
   "metadata": {},
   "outputs": [],
   "source": [
    "\n",
    "scene = trimesh.Scene()\n",
    "for i, val in enumerate(zip(vert_list, face_list)):\n",
    "    verts, faces = val\n",
    "    \n",
    "    mesh = trimesh.Trimesh(vertices=verts, faces=faces, face_colors=FACE_COLOR)\n",
    "    scene.add_geometry(mesh)\n",
    "scene.show()"
   ]
  },
  {
   "cell_type": "markdown",
   "metadata": {},
   "source": [
    "# Compare a ground truth object with the one obtained from the network"
   ]
  },
  {
   "cell_type": "code",
   "execution_count": null,
   "metadata": {},
   "outputs": [],
   "source": [
    "data_gen = data_loader(path = model_dir, \n",
    "                       specs = specs, \n",
    "                       epochs = EPOCHS[-1:], \n",
    "                       obj_id = train_id)\n",
    "\n",
    "net, latent = [i for i in data_gen][0]\n",
    "verts, faces, normals, values = marching_cubes(net, latent, N = 128)\n",
    "verts[:, 1] -= 1\n",
    "verts[:, 0] += 0.2\n",
    "\n",
    "train_mesh = trimesh.Trimesh(vertices=verts, faces=faces, face_colors=FACE_COLOR)\n",
    "scene.add_geometry(train_mesh)\n",
    "\n",
    "gt_mesh = trimesh.load(train_mesh_path, force='mesh', skip_materials=True, face_colors=FACE_COLOR)\n",
    "\n",
    "scene = trimesh.Scene()\n",
    "scene.add_geometry(train_mesh)\n",
    "scene.add_geometry(gt_mesh)\n",
    "scene.show()"
   ]
  },
  {
   "cell_type": "markdown",
   "metadata": {},
   "source": [
    "# Reconstruct an object from the test set"
   ]
  },
  {
   "cell_type": "code",
   "execution_count": null,
   "metadata": {
    "scrolled": true
   },
   "outputs": [],
   "source": [
    "data_gen = data_loader(path = model_dir, \n",
    "                       specs = specs, \n",
    "                       epochs = EPOCHS[-1:], \n",
    "                       obj_id = train_id)\n",
    "\n",
    "net, latent = [i for i in data_gen][0]\n",
    "\n",
    "latent_size = specs['CodeLength']\n",
    "reconstrunctor = DeepSDFReconstructor(net, latent_size, num_iterations=200)\n",
    "loss, latent_vec = reconstrunctor.reconstruct([test_points_path])"
   ]
  },
  {
   "cell_type": "code",
   "execution_count": null,
   "metadata": {},
   "outputs": [],
   "source": [
    "verts, faces, normals, values = marching_cubes(net, latent_vec, N = 128)\n",
    "verts[:, 1] -= 1\n",
    "verts[:, 0] += 0.2\n",
    "\n",
    "test_mesh = trimesh.Trimesh(vertices=verts, faces=faces, face_colors=FACE_COLOR)\n",
    "scene.add_geometry(test_mesh)\n",
    "\n",
    "gt_mesh = trimesh.load(test_mesh_path, force='mesh', skip_materials=True, face_colors=FACE_COLOR)\n",
    "\n",
    "scene = trimesh.Scene()\n",
    "scene.add_geometry(test_mesh)\n",
    "scene.add_geometry(gt_mesh)\n",
    "scene.show()"
   ]
  }
 ],
 "metadata": {
  "kernelspec": {
   "display_name": "Python 3",
   "language": "python",
   "name": "python3"
  },
  "language_info": {
   "codemirror_mode": {
    "name": "ipython",
    "version": 3
   },
   "file_extension": ".py",
   "mimetype": "text/x-python",
   "name": "python",
   "nbconvert_exporter": "python",
   "pygments_lexer": "ipython3",
   "version": "3.8.5"
  }
 },
 "nbformat": 4,
 "nbformat_minor": 4
}
